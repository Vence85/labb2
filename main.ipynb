{
 "cells": [
  {
   "cell_type": "markdown",
   "metadata": {},
   "source": [
    "## Labb 2"
   ]
  },
  {
   "cell_type": "code",
   "execution_count": null,
   "metadata": {},
   "outputs": [],
   "source": [
    "#Impprting useful libraries\n",
    "import pandas as pd\n",
    "import matplotlib.pyplot as plt\n",
    "import plotly.express as px\n"
   ]
  },
  {
   "cell_type": "code",
   "execution_count": null,
   "metadata": {},
   "outputs": [
    {
     "name": "stdout",
     "output_type": "stream",
     "text": [
      "<class 'list'>\n",
      "['Engelska', 'Matematik', 'Svenska', 'Svenska som andraspråk', 'Rapportbeskrivning och def.']\n"
     ]
    }
   ],
   "source": [
    "#Reading the excel file and returning a list with the sheet names\n",
    "excel_file = (pd.ExcelFile(\"riket2023_åk9_np.xlsx\", engine=\"openpyxl\")) \n",
    "print(type(excel_file.sheet_names))\n",
    "print(excel_file.sheet_names)"
   ]
  },
  {
   "cell_type": "code",
   "execution_count": null,
   "metadata": {},
   "outputs": [
    {
     "name": "stdout",
     "output_type": "stream",
     "text": [
      "Engelska\n",
      "   Plats    Huvudman Totalt (A-F) Flickor (A-F) Pojkar (A-F) Totalt (A-E)  \\\n",
      "0  Riket    Samtliga       106941         51864        55077           97   \n",
      "1  Riket    Kommunal        84310         40675        43635         96.6   \n",
      "2  Riket     Enskild        22582         11165        11417         98.7   \n",
      "3  Riket  Skolverket           49            24           25          100   \n",
      "\n",
      "  Flickor (A-E) Pojkar (A-E) Totalt (poäng) Flickor (poäng) Pojkar (poäng)  \n",
      "0          97.1           97           15.7            15.8           15.7  \n",
      "1          96.6         96.6           15.4            15.5           15.4  \n",
      "2          98.8         98.7           16.9              17           16.8  \n",
      "3           100          100           18.5            18.9           18.2  \n",
      "Matematik\n",
      "   Plats    Huvudman Totalt (A-F) Flickor (A-F) Pojkar (A-F) Totalt (A-E)  \\\n",
      "0  Riket    Samtliga       106766         51548        55218         89.1   \n",
      "1  Riket    Kommunal        84163         40386        43777         88.1   \n",
      "2  Riket     Enskild        22553         11137        11416         92.9   \n",
      "3  Riket  Skolverket           50            25           25         ~100   \n",
      "\n",
      "  Flickor (A-E) Pojkar (A-E) Totalt (poäng) Flickor (poäng) Pojkar (poäng)  \n",
      "0          88.7         89.5           11.9            11.8             12  \n",
      "1          87.7         88.5           11.6            11.5           11.7  \n",
      "2          92.2         93.5             13            12.8           13.1  \n",
      "3          ~100         ~100           14.1            13.5           14.7  \n",
      "Svenska\n",
      "   Plats    Huvudman Totalt (A-F) Flickor (A-F) Pojkar (A-F) Totalt (A-E)  \\\n",
      "0  Riket    Samtliga        93225         45800        47425         96.1   \n",
      "1  Riket    Kommunal        72771         35484        37287         95.7   \n",
      "2  Riket     Enskild        20414         10297        10117         97.6   \n",
      "3  Riket  Skolverket           40            19           21          100   \n",
      "\n",
      "  Flickor (A-E) Pojkar (A-E) Totalt (poäng) Flickor (poäng) Pojkar (poäng)  \n",
      "0          97.9         94.4           13.6            14.5           12.7  \n",
      "1          97.6         93.8           13.3            14.3           12.4  \n",
      "2          98.7         96.6           14.4            15.2           13.5  \n",
      "3           100          100             15            15.9           14.2  \n",
      "Svenska som andraspråk\n",
      "   Plats    Huvudman Totalt (A-F) Flickor (A-F) Pojkar (A-F) Totalt (A-E)  \\\n",
      "0  Riket    Samtliga        14092          6447         7645         77.7   \n",
      "1  Riket    Kommunal        11963          5495         6468         75.9   \n",
      "2  Riket     Enskild         2122           949         1173         87.7   \n",
      "3  Riket  Skolverket           ..            ..           ..           ..   \n",
      "\n",
      "  Flickor (A-E) Pojkar (A-E) Totalt (poäng) Flickor (poäng) Pojkar (poäng)  \n",
      "0          81.6         74.3            9.4            10.2            8.7  \n",
      "1            80         72.4              9             9.9            8.3  \n",
      "2          90.9         85.2           11.1              12           10.4  \n",
      "3            ..           ..             ..              ..             ..  \n",
      "Arket Rapportbeskrivning och def. har 4 kolumner, förväntar 11.\n",
      "Rapportbeskrivning och def.\n",
      "8 Observera att om resultatuppgiften baseras på färre än 10 elever, dubbelprickas den. Då visas två prickar (..) istället för utfall.  \\\n",
      "0  Om antalet flickor eller pojkar är färre än 10...                                                                                    \n",
      "1  Observera att om antalet elever med provbetyg ...                                                                                    \n",
      "2  Om en andelsuppgift för antingen pojkar eller ...                                                                                    \n",
      "3  Om data saknas visas en prick (.) istället för...                                                                                    \n",
      "4                                                                                                                                       \n",
      "\n",
      "8 NaN NaN  NaN  \n",
      "0 NaN NaN  NaN  \n",
      "1 NaN NaN  NaN  \n",
      "2 NaN NaN  NaN  \n",
      "3 NaN NaN  NaN  \n",
      "4 NaN NaN  NaN  \n"
     ]
    }
   ],
   "source": [
    "import pandas as pd\n",
    "\n",
    "# read the Excel file without using any header (header=None)\n",
    "sheets = pd.read_excel(\"riket2023_åk9_np.xlsx\", sheet_name=None, engine=\"openpyxl\", header=None)\n",
    "\n",
    "# List with new column names\n",
    "new_column_names = [\n",
    "    \"Plats\", \"Huvudman\",\n",
    "    \"Totalt (A-F)\", \"Flickor (A-F)\", \"Pojkar (A-F)\",\n",
    "    \"Totalt (A-E)\", \"Flickor (A-E)\", \"Pojkar (A-E)\",\n",
    "    \"Totalt (poäng)\", \"Flickor (poäng)\", \"Pojkar (poäng)\"\n",
    "]\n",
    "\n",
    "for sheet_name, df in sheets.items():\n",
    "    # use row 9 (index 8) as the new column names\n",
    "    df.columns = df.iloc[8]\n",
    "\n",
    "    # remove all rows up to and including row 9 (index 8)\n",
    "    df = df.iloc[9:].reset_index(drop=True)\n",
    "\n",
    "    # rename columns to match your preferred names\n",
    "    if len(df.columns) == len(new_column_names):\n",
    "        df.columns = new_column_names\n",
    "    else:\n",
    "        print(f\"Arket {sheet_name} har {len(df.columns)} kolumner, förväntar {len(new_column_names)}.\")\n",
    "\n",
    "    # spara tillbaka den uppdaterade DataFrame i dictionaryn\n",
    "    sheets[sheet_name] = df\n",
    "\n",
    "    # print to check if everything is correct\n",
    "    print(f\"{sheet_name}\")\n",
    "    print(df.head())\n",
    "\n",
    "\n"
   ]
  },
  {
   "cell_type": "code",
   "execution_count": null,
   "metadata": {},
   "outputs": [],
   "source": []
  }
 ],
 "metadata": {
  "kernelspec": {
   "display_name": "venv",
   "language": "python",
   "name": "python3"
  },
  "language_info": {
   "codemirror_mode": {
    "name": "ipython",
    "version": 3
   },
   "file_extension": ".py",
   "mimetype": "text/x-python",
   "name": "python",
   "nbconvert_exporter": "python",
   "pygments_lexer": "ipython3",
   "version": "3.12.0"
  }
 },
 "nbformat": 4,
 "nbformat_minor": 2
}
