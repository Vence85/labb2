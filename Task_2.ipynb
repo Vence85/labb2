{
 "cells": [
  {
   "cell_type": "code",
   "execution_count": 10,
   "metadata": {},
   "outputs": [],
   "source": [
    "import pandas as pd\n",
    "import plotly.express as px"
   ]
  },
  {
   "cell_type": "code",
   "execution_count": null,
   "metadata": {},
   "outputs": [
    {
     "name": "stdout",
     "output_type": "stream",
     "text": [
      "<class 'pandas.io.excel._base.ExcelFile'>\n"
     ]
    }
   ],
   "source": [
    "excel_file_task2 = (pd.ExcelFile(\"betyg_o_prov_riksnivå.xlsx\"))\n",
    "print(type(excel_file_task2))\n"
   ]
  },
  {
   "cell_type": "code",
   "execution_count": null,
   "metadata": {},
   "outputs": [
    {
     "name": "stdout",
     "output_type": "stream",
     "text": [
      "<class 'dict'>\n"
     ]
    }
   ],
   "source": [
    "sheets = pd.read_excel(\"betyg_o_prov_riksnivå.xlsx\", sheet_name=None, engine=\"openpyxl\", header=None)\n",
    "\n",
    "print(type(sheets))\n",
    "\n",
    "for sheet_name, df in sheets.info():\n",
    "    "
   ]
  }
 ],
 "metadata": {
  "kernelspec": {
   "display_name": "venv",
   "language": "python",
   "name": "python3"
  },
  "language_info": {
   "codemirror_mode": {
    "name": "ipython",
    "version": 3
   },
   "file_extension": ".py",
   "mimetype": "text/x-python",
   "name": "python",
   "nbconvert_exporter": "python",
   "pygments_lexer": "ipython3",
   "version": "3.12.0"
  }
 },
 "nbformat": 4,
 "nbformat_minor": 2
}
